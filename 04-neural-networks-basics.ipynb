{
 "metadata": {
  "language": "lua",
  "name": "",
  "signature": "sha256:790040148b71ba6140897941a52ba923b8066d9345169c8fbbfd55aa3c935e52"
 },
 "nbformat": 3,
 "nbformat_minor": 0,
 "worksheets": [
  {
   "cells": [
    {
     "cell_type": "markdown",
     "metadata": {},
     "source": [
      "Modules are the bricks used to build neural networks. Each are themselves neural networks, but can be combined with other networks using containers to create complex neural networks"
     ]
    },
    {
     "cell_type": "code",
     "collapsed": false,
     "input": [
      "-- Let's create a simple sequential neural network.\n",
      "require 'nn'\n",
      "m = nn.Sequential() -- all modules added to this neural network are chained one after the other"
     ],
     "language": "python",
     "metadata": {},
     "outputs": [],
     "prompt_number": 20
    },
    {
     "cell_type": "code",
     "collapsed": false,
     "input": [
      "-- add some modules\n",
      "m:add(nn.Linear(10,20)):add(nn.ReLU());\n",
      "m:add(nn.Linear(20,5));\n",
      "m:add(nn.SoftMax());"
     ],
     "language": "python",
     "metadata": {},
     "outputs": [],
     "prompt_number": 21
    },
    {
     "cell_type": "code",
     "collapsed": false,
     "input": [
      "print(m:__tostring())"
     ],
     "language": "python",
     "metadata": {},
     "outputs": [
      {
       "metadata": {},
       "output_type": "pyout",
       "prompt_number": 22,
       "text": [
        "nn.Sequential {\n",
        "  [input -> (1) -> (2) -> (3) -> (4) -> output]\n",
        "  (1): nn.Linear(10 -> 20)\n",
        "  (2): nn.ReLU\n",
        "  (3): nn.Linear(20 -> 5)\n",
        "  (4): nn.SoftMax\n",
        "}\t\n"
       ]
      }
     ],
     "prompt_number": 22
    },
    {
     "cell_type": "code",
     "collapsed": false,
     "input": [
      "print(torch.type(m))"
     ],
     "language": "python",
     "metadata": {},
     "outputs": [
      {
       "metadata": {},
       "output_type": "pyout",
       "prompt_number": 23,
       "text": [
        "nn.Sequential\t\n"
       ]
      }
     ],
     "prompt_number": 23
    },
    {
     "cell_type": "code",
     "collapsed": false,
     "input": [
      "-- you can send in a single sample to this neural network\n",
      "input = torch.randn(10)\n",
      "output = m:forward(input)\n",
      "print(output)"
     ],
     "language": "python",
     "metadata": {},
     "outputs": [
      {
       "metadata": {},
       "output_type": "pyout",
       "prompt_number": 24,
       "text": [
        " 0.1501\n",
        " 0.1420\n",
        " 0.2427\n",
        " 0.2960\n",
        " 0.1693\n",
        "[torch.DoubleTensor of dimension 5]\n",
        "\n"
       ]
      }
     ],
     "prompt_number": 24
    },
    {
     "cell_type": "code",
     "collapsed": false,
     "input": [
      "-- backpropagation\n",
      "errors = torch.randn(5) -- randomly define errors to be propagated back\n",
      "m:zeroGradParameters() -- zero all the gradients w.r.t. the parameters in m\n",
      "m:backward(input, errors) -- back-propagate the errors back through the network"
     ],
     "language": "python",
     "metadata": {},
     "outputs": [],
     "prompt_number": 27
    },
    {
     "cell_type": "code",
     "collapsed": false,
     "input": [
      "-- in the same way, you can send in a mini-batch and back-propagate\n",
      "batchSize = 128\n",
      "input = torch.randn(batchSize, 10)\n",
      "output = m:forward(input)"
     ],
     "language": "python",
     "metadata": {},
     "outputs": [],
     "prompt_number": 29
    },
    {
     "cell_type": "markdown",
     "metadata": {},
     "source": []
    }
   ],
   "metadata": {}
  }
 ]
}